{
 "cells": [
  {
   "cell_type": "code",
   "execution_count": 6,
   "metadata": {},
   "outputs": [
    {
     "name": "stdout",
     "output_type": "stream",
     "text": [
      "Mano gyvunas - Katė yra pilka, 4m., ir sveria 4kg\n"
     ]
    }
   ],
   "source": [
    "pavadinimas = \"Katė\"\n",
    "amžius = \"4m.\"\n",
    "kailio_spalva = \"pilka\"\n",
    "svoris = \"4kg\"\n",
    "\n",
    "print(f\"Mano gyvunas - {pavadinimas} yra {kailio_spalva}, {amžius}, ir sveria {svoris}\")\n"
   ]
  },
  {
   "cell_type": "code",
   "execution_count": 76,
   "metadata": {},
   "outputs": [
    {
     "name": "stdout",
     "output_type": "stream",
     "text": [
      "stressed\n",
      "stressed\n"
     ]
    }
   ],
   "source": [
    "desertukas = \"desserts\"[::-1]\n",
    "my_text = \"desserts\"\n",
    "new_text = my_text[8:-9:-1]\n",
    "\n",
    "print(new_text)\n",
    "print(desertukas)"
   ]
  },
  {
   "cell_type": "code",
   "execution_count": 99,
   "metadata": {},
   "outputs": [
    {
     "name": "stdout",
     "output_type": "stream",
     "text": [
      "racecar\n"
     ]
    }
   ],
   "source": [
    "needle = \"racecar\"\n",
    "haystack = \"The racecar is fast, but can it outrun a palindrome?\"\n",
    "\n",
    "find_a_needle_in_a_haystack = haystack[haystack.find(needle):haystack.find(needle) + len(needle)]\n",
    "\n",
    "print(find_a_needle_in_a_haystack)\n"
   ]
  },
  {
   "cell_type": "code",
   "execution_count": 102,
   "metadata": {},
   "outputs": [
    {
     "name": "stdout",
     "output_type": "stream",
     "text": [
      "1\n",
      "43\n",
      "44\n"
     ]
    }
   ],
   "source": [
    "bool_1 = True\n",
    "number_string = '43'\n",
    "\n",
    "string_int = int(number_string)\n",
    "bool_int = int(bool_1)\n",
    "\n",
    "print(bool_int)\n",
    "print(string_int)\n",
    "\n",
    "bool_plus_string = string_int + bool_int\n",
    "print(bool_plus_string)"
   ]
  },
  {
   "cell_type": "code",
   "execution_count": null,
   "metadata": {},
   "outputs": [],
   "source": []
  }
 ],
 "metadata": {
  "kernelspec": {
   "display_name": "Python 3",
   "language": "python",
   "name": "python3"
  },
  "language_info": {
   "codemirror_mode": {
    "name": "ipython",
    "version": 3
   },
   "file_extension": ".py",
   "mimetype": "text/x-python",
   "name": "python",
   "nbconvert_exporter": "python",
   "pygments_lexer": "ipython3",
   "version": "3.10.2"
  },
  "orig_nbformat": 4
 },
 "nbformat": 4,
 "nbformat_minor": 2
}

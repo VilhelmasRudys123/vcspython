{
 "cells": [
  {
   "cell_type": "code",
   "execution_count": 9,
   "metadata": {},
   "outputs": [
    {
     "name": "stdout",
     "output_type": "stream",
     "text": [
      "might\n",
      "\n"
     ]
    }
   ],
   "source": [
    "big_string = 'jazz sometimes might be a little too much, but you wont know until you try it, right?'\n",
    "word = 'might'\n",
    "\n",
    "find_the_word = big_string[big_string.find(word):big_string.find(word) + len(word)]\n",
    "print(find_the_word)\n",
    "\n",
    "\n",
    "x = 'mano'\n",
    "small_string = 'ka tu man sakai'\n",
    "my_word = small_string[small_string.find(x):small_string.find(x) + len(x)]\n",
    "\n",
    "print(my_word)"
   ]
  },
  {
   "cell_type": "code",
   "execution_count": 16,
   "metadata": {},
   "outputs": [
    {
     "name": "stdout",
     "output_type": "stream",
     "text": [
      "asd\n"
     ]
    }
   ],
   "source": [
    "wtf_string = 'askjd joke asdljkaskdl asdlllasdl asdjasdh moon jazz some music perhaps?'\n",
    "word_to_find = 'asd'\n",
    "\n",
    "print_found_word = wtf_string[wtf_string.find(word_to_find):wtf_string.find(word_to_find) + len(word_to_find)]\n",
    "print(print_found_word)"
   ]
  },
  {
   "cell_type": "code",
   "execution_count": 19,
   "metadata": {},
   "outputs": [
    {
     "name": "stdout",
     "output_type": "stream",
     "text": [
      "asd\n"
     ]
    }
   ],
   "source": [
    "wtf_string = 'askjd joke asdljkaskdl asdlllasdl asdjasdh moon jazz some music perhaps?'\n",
    "word_to_find = 'asd'\n",
    "\n",
    "print_found_word = wtf_string[wtf_string.find(word_to_find):14]\n",
    "print(print_found_word)"
   ]
  }
 ],
 "metadata": {
  "kernelspec": {
   "display_name": "Python 3",
   "language": "python",
   "name": "python3"
  },
  "language_info": {
   "codemirror_mode": {
    "name": "ipython",
    "version": 3
   },
   "file_extension": ".py",
   "mimetype": "text/x-python",
   "name": "python",
   "nbconvert_exporter": "python",
   "pygments_lexer": "ipython3",
   "version": "3.10.2"
  },
  "orig_nbformat": 4
 },
 "nbformat": 4,
 "nbformat_minor": 2
}
